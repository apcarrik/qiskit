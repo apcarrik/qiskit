{
 "cells": [
  {
   "cell_type": "markdown",
   "metadata": {
    "id": "1sq36OIazJ_O"
   },
   "source": [
    "# Spin Echo"
   ]
  },
  {
   "cell_type": "markdown",
   "metadata": {},
   "source": [
    "## 1. a)"
   ]
  },
  {
   "cell_type": "code",
   "execution_count": 36,
   "metadata": {
    "colab": {
     "base_uri": "https://localhost:8080/"
    },
    "id": "CWDm1TB3qpht",
    "outputId": "b8806ade-907b-4861-d6f5-f01b3119425f"
   },
   "outputs": [],
   "source": [
    "import sys\n",
    "# !conda install --yes --prefix {sys.prefix} numpy\n",
    "# !conda install --yes --prefix {sys.prefix} qiskit\n",
    "# !conda install --yes --prefix {sys.prefix} matplotlib"
   ]
  },
  {
   "cell_type": "code",
   "execution_count": 3,
   "metadata": {},
   "outputs": [],
   "source": [
    "import numpy as np\n",
    "from qiskit import *\n",
    "from matplotlib import pyplot\n",
    "from math import pi"
   ]
  },
  {
   "cell_type": "code",
   "execution_count": 51,
   "metadata": {},
   "outputs": [
    {
     "name": "stdout",
     "output_type": "stream",
     "text": [
      "theta=0/10*pi\tcounts: {'0': 1024}\n",
      "theta=1/10*pi\tcounts: {'1': 22, '0': 1002}\n",
      "theta=2/10*pi\tcounts: {'1': 108, '0': 916}\n",
      "theta=3/10*pi\tcounts: {'1': 200, '0': 824}\n",
      "theta=4/10*pi\tcounts: {'1': 343, '0': 681}\n",
      "theta=5/10*pi\tcounts: {'1': 509, '0': 515}\n",
      "theta=6/10*pi\tcounts: {'0': 335, '1': 689}\n",
      "theta=7/10*pi\tcounts: {'1': 840, '0': 184}\n",
      "theta=8/10*pi\tcounts: {'0': 84, '1': 940}\n",
      "theta=9/10*pi\tcounts: {'0': 37, '1': 987}\n",
      "theta=10/10*pi\tcounts: {'1': 1024}\n"
     ]
    }
   ],
   "source": [
    "thetas = [i*pi/10 for i in range(0,11)]\n",
    "counts_arr = [ [] for i in range(len(thetas)) ]\n",
    "\n",
    "for i, theta in enumerate(thetas):\n",
    "    \n",
    "    # Build circuit\n",
    "    qc = QuantumCircuit(1,1)\n",
    "    qc.h(0)\n",
    "    qc.rz(theta,0)\n",
    "    qc.h(0)\n",
    "    qc.measure(0,0)\n",
    "    qc.draw()\n",
    "\n",
    "    # Simulate circuit using Aer's qasm_simulator\n",
    "    backend_sim = Aer.get_backend('qasm_simulator')\n",
    "    job_sim = backend_sim.run(transpile(qc, backend_sim), shots=1024)\n",
    "    result_sim = job_sim.result()\n",
    "    counts = result_sim.get_counts(qc)\n",
    "    \n",
    "    # collect counts of simulation output\n",
    "    counts_arr[i].append( counts['0'] if '0' in counts else 0 )\n",
    "    counts_arr[i].append( counts['1'] if '1' in counts else 0 )\n",
    "    \n",
    "    print(f'theta={i}/10*pi\\tcounts:',counts)\n",
    "\n"
   ]
  },
  {
   "cell_type": "code",
   "execution_count": 55,
   "metadata": {},
   "outputs": [],
   "source": [
    "import matplotlib.pyplot as plt\n",
    "import numpy as np\n",
    "\n",
    "def plot_results(counts_arr):\n",
    "\n",
    "    zeros = [count[0] for count in counts_arr]\n",
    "    ones = [count[1] for count in counts_arr]\n",
    "\n",
    "    fig, ax = plt.subplots()\n",
    "    labels = [f'{i}/10*pi' for i in range(len(thetas))]\n",
    "    x = np.arange(len(labels))\n",
    "    width=0.35\n",
    "\n",
    "    c1 = ax.bar(x - width/2, zeros, width, label='Output = 0')\n",
    "    c2 = ax.bar(x + width/2, ones, width, label='Output = 1')\n",
    "\n",
    "    ax.set_ylabel('Counts')\n",
    "    ax.set_xlabel('Theta')\n",
    "    ax.set_title('Averaged Output Counts vs. Theta')\n",
    "    ax.set_xticks(x)\n",
    "    ax.set_xticklabels(labels)\n",
    "    ax.legend()\n",
    "\n",
    "    ax.bar_label(c1, padding=3)\n",
    "    ax.bar_label(c2, padding=3)\n",
    "\n",
    "    fig.set_size_inches(12, 9)\n",
    "\n",
    "    plt.show()"
   ]
  },
  {
   "cell_type": "code",
   "execution_count": 56,
   "metadata": {},
   "outputs": [
    {
     "data": {
      "image/png": "[encoded data removed]",
      "text/plain": [
       "<Figure size 864x648 with 1 Axes>"
      ]
     },
     "metadata": {
      "needs_background": "light"
     },
     "output_type": "display_data"
    }
   ],
   "source": [
    "plot_results(counts_arr)"
   ]
  },
  {
   "cell_type": "markdown",
   "metadata": {},
   "source": [
    "## 1. b)"
   ]
  },
  {
   "cell_type": "code",
   "execution_count": null,
   "metadata": {},
   "outputs": [],
   "source": []
  }
 ],
 "metadata": {
  "anaconda-cloud": {},
  "colab": {
   "collapsed_sections": [],
   "name": "svm.ipynb",
   "provenance": []
  },
  "kernelspec": {
   "display_name": "Python 3 (ipykernel)",
   "language": "python",
   "name": "python3"
  },
  "language_info": {
   "codemirror_mode": {
    "name": "ipython",
    "version": 3
   },
   "file_extension": ".py",
   "mimetype": "text/x-python",
   "name": "python",
   "nbconvert_exporter": "python",
   "pygments_lexer": "ipython3",
   "version": "3.9.5"
  }
 },
 "nbformat": 4,
 "nbformat_minor": 1
}
